{
 "cells": [
  {
   "cell_type": "code",
   "execution_count": 1,
   "metadata": {
    "collapsed": false
   },
   "outputs": [],
   "source": [
    "import pandas as pd\n",
    "import numpy as np\n",
    "import seaborn as sns\n",
    "import matplotlib.pyplot as plt\n",
    "%matplotlib inline\n",
    "\n",
    "from scipy.sparse.linalg import svds\n",
    "from sparsesvd import sparsesvd\n",
    "from scipy.sparse import csr_matrix, csc_matrix\n",
    "from sklearn.model_selection import train_test_split"
   ]
  },
  {
   "cell_type": "code",
   "execution_count": 2,
   "metadata": {
    "collapsed": false
   },
   "outputs": [],
   "source": [
    "df_watch = pd.read_csv('data/content_watch.csv')\n",
    "df_rates = pd.read_csv('data/content_rates.csv')\n",
    "test = pd.read_csv('data/test_set.csv')\n",
    "df_watch = df_watch.rename(index=str, columns={\"user_index\": \"user_id\"})\n",
    "df_rates = df_rates.rename(index=str, columns={\"user_index\": \"user_id\"})\n",
    "test = test.rename(index=str, columns={\"user_index\": \"user_id\"})"
   ]
  },
  {
   "cell_type": "markdown",
   "metadata": {},
   "source": [
    "## 1. Анализ данных"
   ]
  },
  {
   "cell_type": "markdown",
   "metadata": {},
   "source": [
    "Посмотрим на данные:"
   ]
  },
  {
   "cell_type": "code",
   "execution_count": 3,
   "metadata": {
    "collapsed": false
   },
   "outputs": [
    {
     "data": {
      "text/html": [
       "<div>\n",
       "<table border=\"1\" class=\"dataframe\">\n",
       "  <thead>\n",
       "    <tr style=\"text-align: right;\">\n",
       "      <th></th>\n",
       "      <th>user_id</th>\n",
       "      <th>item_id</th>\n",
       "      <th>watch_duration</th>\n",
       "    </tr>\n",
       "  </thead>\n",
       "  <tbody>\n",
       "    <tr>\n",
       "      <th>0</th>\n",
       "      <td>1677306600</td>\n",
       "      <td>2011099417</td>\n",
       "      <td>34.0</td>\n",
       "    </tr>\n",
       "    <tr>\n",
       "      <th>1</th>\n",
       "      <td>1677306600</td>\n",
       "      <td>-1495220568</td>\n",
       "      <td>11175.0</td>\n",
       "    </tr>\n",
       "    <tr>\n",
       "      <th>2</th>\n",
       "      <td>1677306600</td>\n",
       "      <td>1642882038</td>\n",
       "      <td>651.0</td>\n",
       "    </tr>\n",
       "    <tr>\n",
       "      <th>3</th>\n",
       "      <td>1677306600</td>\n",
       "      <td>742930742</td>\n",
       "      <td>1192.0</td>\n",
       "    </tr>\n",
       "    <tr>\n",
       "      <th>4</th>\n",
       "      <td>1677306600</td>\n",
       "      <td>-1068637190</td>\n",
       "      <td>8465.0</td>\n",
       "    </tr>\n",
       "  </tbody>\n",
       "</table>\n",
       "</div>"
      ],
      "text/plain": [
       "      user_id     item_id  watch_duration\n",
       "0  1677306600  2011099417            34.0\n",
       "1  1677306600 -1495220568         11175.0\n",
       "2  1677306600  1642882038           651.0\n",
       "3  1677306600   742930742          1192.0\n",
       "4  1677306600 -1068637190          8465.0"
      ]
     },
     "execution_count": 3,
     "metadata": {},
     "output_type": "execute_result"
    }
   ],
   "source": [
    "df_watch.head()"
   ]
  },
  {
   "cell_type": "code",
   "execution_count": 4,
   "metadata": {
    "collapsed": false
   },
   "outputs": [
    {
     "data": {
      "text/html": [
       "<div>\n",
       "<table border=\"1\" class=\"dataframe\">\n",
       "  <thead>\n",
       "    <tr style=\"text-align: right;\">\n",
       "      <th></th>\n",
       "      <th>user_id</th>\n",
       "      <th>item_id</th>\n",
       "      <th>rate</th>\n",
       "    </tr>\n",
       "  </thead>\n",
       "  <tbody>\n",
       "    <tr>\n",
       "      <th>0</th>\n",
       "      <td>389298900</td>\n",
       "      <td>1515894657</td>\n",
       "      <td>10</td>\n",
       "    </tr>\n",
       "    <tr>\n",
       "      <th>1</th>\n",
       "      <td>389298900</td>\n",
       "      <td>-742253908</td>\n",
       "      <td>10</td>\n",
       "    </tr>\n",
       "    <tr>\n",
       "      <th>2</th>\n",
       "      <td>-631917800</td>\n",
       "      <td>-1660713173</td>\n",
       "      <td>10</td>\n",
       "    </tr>\n",
       "    <tr>\n",
       "      <th>3</th>\n",
       "      <td>124302000</td>\n",
       "      <td>1746724601</td>\n",
       "      <td>8</td>\n",
       "    </tr>\n",
       "    <tr>\n",
       "      <th>4</th>\n",
       "      <td>933344900</td>\n",
       "      <td>-1723773973</td>\n",
       "      <td>8</td>\n",
       "    </tr>\n",
       "  </tbody>\n",
       "</table>\n",
       "</div>"
      ],
      "text/plain": [
       "     user_id     item_id  rate\n",
       "0  389298900  1515894657    10\n",
       "1  389298900  -742253908    10\n",
       "2 -631917800 -1660713173    10\n",
       "3  124302000  1746724601     8\n",
       "4  933344900 -1723773973     8"
      ]
     },
     "execution_count": 4,
     "metadata": {},
     "output_type": "execute_result"
    }
   ],
   "source": [
    "df_rates.head()"
   ]
  },
  {
   "cell_type": "code",
   "execution_count": 5,
   "metadata": {
    "collapsed": false
   },
   "outputs": [
    {
     "data": {
      "text/html": [
       "<div>\n",
       "<table border=\"1\" class=\"dataframe\">\n",
       "  <thead>\n",
       "    <tr style=\"text-align: right;\">\n",
       "      <th></th>\n",
       "      <th>watch_duration</th>\n",
       "    </tr>\n",
       "  </thead>\n",
       "  <tbody>\n",
       "    <tr>\n",
       "      <th>count</th>\n",
       "      <td>7.438820e+05</td>\n",
       "    </tr>\n",
       "    <tr>\n",
       "      <th>mean</th>\n",
       "      <td>9.044793e+03</td>\n",
       "    </tr>\n",
       "    <tr>\n",
       "      <th>std</th>\n",
       "      <td>2.740012e+04</td>\n",
       "    </tr>\n",
       "    <tr>\n",
       "      <th>min</th>\n",
       "      <td>0.000000e+00</td>\n",
       "    </tr>\n",
       "    <tr>\n",
       "      <th>25%</th>\n",
       "      <td>3.600000e+02</td>\n",
       "    </tr>\n",
       "    <tr>\n",
       "      <th>50%</th>\n",
       "      <td>2.648000e+03</td>\n",
       "    </tr>\n",
       "    <tr>\n",
       "      <th>75%</th>\n",
       "      <td>8.120750e+03</td>\n",
       "    </tr>\n",
       "    <tr>\n",
       "      <th>max</th>\n",
       "      <td>2.013658e+06</td>\n",
       "    </tr>\n",
       "  </tbody>\n",
       "</table>\n",
       "</div>"
      ],
      "text/plain": [
       "       watch_duration\n",
       "count    7.438820e+05\n",
       "mean     9.044793e+03\n",
       "std      2.740012e+04\n",
       "min      0.000000e+00\n",
       "25%      3.600000e+02\n",
       "50%      2.648000e+03\n",
       "75%      8.120750e+03\n",
       "max      2.013658e+06"
      ]
     },
     "execution_count": 5,
     "metadata": {},
     "output_type": "execute_result"
    }
   ],
   "source": [
    "df_watch[['watch_duration']].describe()"
   ]
  },
  {
   "cell_type": "markdown",
   "metadata": {},
   "source": [
    "Видно, что разброс длительности просмотра большой, от 0 до десятков тысяч минут, в выборе явно есть многосерийный контент."
   ]
  },
  {
   "cell_type": "markdown",
   "metadata": {},
   "source": [
    "### Гистограмма распределения длительности просмотра"
   ]
  },
  {
   "cell_type": "code",
   "execution_count": 6,
   "metadata": {
    "collapsed": false
   },
   "outputs": [
    {
     "data": {
      "image/png": "[encoded data removed]",
      "text/plain": [
       "<matplotlib.figure.Figure at 0x7f8369625f50>"
      ]
     },
     "metadata": {},
     "output_type": "display_data"
    }
   ],
   "source": [
    "dur_min = df_watch.watch_duration.min()\n",
    "dur_75q = df_watch.watch_duration.quantile(0.75)\n",
    "\n",
    "plt.figure(figsize=(16, 6))\n",
    "plt.hist(df_watch.watch_duration.dropna(), bins=1000, range=(dur_min, dur_75q))\n",
    "plt.show()"
   ]
  },
  {
   "cell_type": "markdown",
   "metadata": {},
   "source": [
    "На гистограмме видны скопления значений в начале оси (пользователи открывают контент и понимают, что это не то, что они хотели) и в районе значений в 5000-6000 секунд (~90-120 минут) - средняя длительность фильма, то есть фильмов достаточно много (сериалы обычно короче, либо их смотрят по много серий, тогда длительность будет намного больше)."
   ]
  },
  {
   "cell_type": "markdown",
   "metadata": {},
   "source": [
    "Добавим признак - количество просмотренных пользователем айтемов за период:"
   ]
  },
  {
   "cell_type": "code",
   "execution_count": 7,
   "metadata": {
    "collapsed": false
   },
   "outputs": [],
   "source": [
    "df_watch['content_count_byuser'] = df_watch.groupby(df_watch['user_id'])['item_id'].transform('nunique')"
   ]
  },
  {
   "cell_type": "markdown",
   "metadata": {},
   "source": [
    "Добавим в датасет оценки пользователей"
   ]
  },
  {
   "cell_type": "code",
   "execution_count": 8,
   "metadata": {
    "collapsed": false
   },
   "outputs": [
    {
     "data": {
      "text/html": [
       "<div>\n",
       "<table border=\"1\" class=\"dataframe\">\n",
       "  <thead>\n",
       "    <tr style=\"text-align: right;\">\n",
       "      <th></th>\n",
       "      <th>user_id</th>\n",
       "      <th>item_id</th>\n",
       "      <th>watch_duration</th>\n",
       "      <th>content_count_byuser</th>\n",
       "      <th>rate</th>\n",
       "    </tr>\n",
       "  </thead>\n",
       "  <tbody>\n",
       "    <tr>\n",
       "      <th>0</th>\n",
       "      <td>1677306600</td>\n",
       "      <td>2011099417</td>\n",
       "      <td>34.0</td>\n",
       "      <td>12</td>\n",
       "      <td>NaN</td>\n",
       "    </tr>\n",
       "    <tr>\n",
       "      <th>1</th>\n",
       "      <td>1677306600</td>\n",
       "      <td>-1495220568</td>\n",
       "      <td>11175.0</td>\n",
       "      <td>12</td>\n",
       "      <td>NaN</td>\n",
       "    </tr>\n",
       "    <tr>\n",
       "      <th>2</th>\n",
       "      <td>1677306600</td>\n",
       "      <td>1642882038</td>\n",
       "      <td>651.0</td>\n",
       "      <td>12</td>\n",
       "      <td>NaN</td>\n",
       "    </tr>\n",
       "    <tr>\n",
       "      <th>3</th>\n",
       "      <td>1677306600</td>\n",
       "      <td>742930742</td>\n",
       "      <td>1192.0</td>\n",
       "      <td>12</td>\n",
       "      <td>NaN</td>\n",
       "    </tr>\n",
       "    <tr>\n",
       "      <th>4</th>\n",
       "      <td>1677306600</td>\n",
       "      <td>-1068637190</td>\n",
       "      <td>8465.0</td>\n",
       "      <td>12</td>\n",
       "      <td>NaN</td>\n",
       "    </tr>\n",
       "  </tbody>\n",
       "</table>\n",
       "</div>"
      ],
      "text/plain": [
       "      user_id     item_id  watch_duration  content_count_byuser  rate\n",
       "0  1677306600  2011099417            34.0                    12   NaN\n",
       "1  1677306600 -1495220568         11175.0                    12   NaN\n",
       "2  1677306600  1642882038           651.0                    12   NaN\n",
       "3  1677306600   742930742          1192.0                    12   NaN\n",
       "4  1677306600 -1068637190          8465.0                    12   NaN"
      ]
     },
     "execution_count": 8,
     "metadata": {},
     "output_type": "execute_result"
    }
   ],
   "source": [
    "train = pd.merge(df_watch, df_rates, how='left', on=['user_id', 'item_id'])\n",
    "train.head()"
   ]
  },
  {
   "cell_type": "code",
   "execution_count": 9,
   "metadata": {
    "collapsed": false
   },
   "outputs": [],
   "source": [
    "train_by_cont = train.groupby(['item_id'])['watch_duration', 'rate']\\\n",
    "                         .agg({'watch_duration': 'sum', 'rate': 'mean'})\n",
    "#train_by_cont.head(20)"
   ]
  },
  {
   "cell_type": "markdown",
   "metadata": {},
   "source": [
    "### Зависимость суммарной длительности просмотра от средней оценки контента:"
   ]
  },
  {
   "cell_type": "code",
   "execution_count": 10,
   "metadata": {
    "collapsed": false
   },
   "outputs": [
    {
     "data": {
      "image/png": "[encoded data removed]",
      "text/plain": [
       "<matplotlib.figure.Figure at 0x7f8368a3ab90>"
      ]
     },
     "metadata": {},
     "output_type": "display_data"
    }
   ],
   "source": [
    "plt.figure(figsize=(8,4))\n",
    "ax = sns.barplot(train_by_cont.rate.apply(np.round), train_by_cont.watch_duration, alpha=0.8)\n",
    "plt.title(\"Sum duration per rate\")\n",
    "plt.ylabel('duration', fontsize=12)\n",
    "plt.xlabel('mean rate', fontsize=12)\n",
    "plt.show()"
   ]
  },
  {
   "cell_type": "markdown",
   "metadata": {},
   "source": [
    "Видно, что в основном большая длительность просмотра у контента, который получает высокий рейтинг (хотя достаточно большие значения есть и на 4 баллах). Это дает основания предполагать, что чем больше длительность просмотра, тем выше оценку получит контент."
   ]
  },
  {
   "cell_type": "markdown",
   "metadata": {},
   "source": [
    "### Гистограмма количества фильмов по оценкам:"
   ]
  },
  {
   "cell_type": "code",
   "execution_count": 11,
   "metadata": {
    "collapsed": false
   },
   "outputs": [
    {
     "data": {
      "image/png": "[encoded data removed]",
      "text/plain": [
       "<matplotlib.figure.Figure at 0x7f83662cd090>"
      ]
     },
     "metadata": {},
     "output_type": "display_data"
    }
   ],
   "source": [
    "cont_byrate=train.groupby(['rate']).count().reset_index()\n",
    "\n",
    "plt.figure(figsize=(8,4))\n",
    "ax= sns.barplot(cont_byrate.rate, cont_byrate.item_id, alpha=0.8)\n",
    "plt.title(\"Items per rate\")\n",
    "plt.ylabel('# of items', fontsize=12)\n",
    "plt.xlabel('Rate', fontsize=12)\n",
    "plt.show()"
   ]
  },
  {
   "cell_type": "markdown",
   "metadata": {},
   "source": [
    "Абсолютное большинство фильмов получают высшую оценку."
   ]
  },
  {
   "cell_type": "markdown",
   "metadata": {},
   "source": [
    "### Гистограмма количества пользователей по числу просмотренных фильмов:"
   ]
  },
  {
   "cell_type": "code",
   "execution_count": 12,
   "metadata": {
    "collapsed": false
   },
   "outputs": [
    {
     "data": {
      "image/png": "[encoded data removed]",
      "text/plain": [
       "<matplotlib.figure.Figure at 0x7f836961e150>"
      ]
     },
     "metadata": {},
     "output_type": "display_data"
    }
   ],
   "source": [
    "users_bycontent_count=train.groupby(['content_count_byuser']).count().reset_index()\n",
    "\n",
    "plt.figure(figsize=(20,8))\n",
    "ax = sns.barplot(users_bycontent_count.content_count_byuser, users_bycontent_count.user_id, alpha=0.8)\n",
    "plt.title(\"# of users per content count\")\n",
    "plt.ylabel('# of users', fontsize=12)\n",
    "plt.xlabel('# of content items watched', fontsize=12)\n",
    "plt.show()"
   ]
  },
  {
   "cell_type": "markdown",
   "metadata": {
    "collapsed": true
   },
   "source": [
    "Видно, что большинство пользователей смотрят 1 или 5-10 различных контентов."
   ]
  },
  {
   "cell_type": "markdown",
   "metadata": {},
   "source": [
    "### Построение модели"
   ]
  },
  {
   "cell_type": "markdown",
   "metadata": {},
   "source": [
    "Мы имеем матрицу оценок контента пользователями и матрицу длительностей просмотра, которую также можно использовать для построения недостающих оценок.\n",
    "Построим модель рекомендаций контента на основе SVD-разложения. Мы получим матрицу, предсказывающую оценки пользователя для всех фильмов.\n",
    "Будем брать фильмы, с максимальными оценками и считать, что именно их посмотрит пользователь. "
   ]
  },
  {
   "cell_type": "markdown",
   "metadata": {},
   "source": [
    "Проверим, что множества пользователей и контента в файлах пересекаются"
   ]
  },
  {
   "cell_type": "code",
   "execution_count": 13,
   "metadata": {
    "collapsed": false
   },
   "outputs": [
    {
     "name": "stdout",
     "output_type": "stream",
     "text": [
      "test_users count:  3662\n",
      "train_users count:  108124\n",
      "intersect_users count:  3662\n",
      "\n",
      "test_items count:  4131\n",
      "train_items count:  8759\n",
      "intersect_items count:  4034\n"
     ]
    }
   ],
   "source": [
    "#check how many test users are in train\n",
    "\n",
    "test_users = set(list(test.user_id.values))\n",
    "train_users = set(list(df_rates.user_id.values) + list(df_watch.user_id.values))\n",
    "intersect_users = [u for u in test_users if u in train_users]\n",
    "\n",
    "print 'test_users count: ',  len(test_users)\n",
    "print 'train_users count: ',  len(train_users)\n",
    "print 'intersect_users count: ',  len(intersect_users)\n",
    "\n",
    "# check how many test items are in train\n",
    "\n",
    "test_items = set(list(test.item_id.values))\n",
    "train_items = set(list(df_rates.item_id.values) + list(df_watch.item_id.values))\n",
    "intersect_items = [u for u in test_items if u in train_items]\n",
    "\n",
    "print '\\ntest_items count: ', len(test_items)\n",
    "print 'train_items count: ', len(train_items)\n",
    "print 'intersect_items count: ', len(intersect_items)"
   ]
  },
  {
   "cell_type": "markdown",
   "metadata": {},
   "source": [
    "Около 100 фильмов из теста не встречаются в выборке за предыдущий месяц. Чтобы был шанс их предсказать, нужно заполнить оценки для них каким-нибудь средним значением для пользователя."
   ]
  },
  {
   "cell_type": "code",
   "execution_count": 14,
   "metadata": {
    "collapsed": false
   },
   "outputs": [
    {
     "data": {
      "text/plain": [
       "user_id           737517\n",
       "item_id           737517\n",
       "watch_duration    735158\n",
       "rate                3795\n",
       "dtype: int64"
      ]
     },
     "execution_count": 14,
     "metadata": {},
     "output_type": "execute_result"
    }
   ],
   "source": [
    "# merge data from watch and rates into train set\n",
    "train = df_watch.merge(df_rates, how='outer', on=['user_id', 'item_id'])\n",
    "train = train.groupby(['user_id', 'item_id'])['watch_duration', 'rate'].agg({'watch_duration': 'sum', 'rate': 'mean'}).reset_index()\n",
    "train.count()"
   ]
  },
  {
   "cell_type": "markdown",
   "metadata": {},
   "source": [
    "Построим матрицу пользователь-рейтинг для использования в SVD-разложении.\n",
    "Создадим словарь id-индекс в матрице для маппинга id пользователей и контента."
   ]
  },
  {
   "cell_type": "code",
   "execution_count": 15,
   "metadata": {
    "collapsed": false
   },
   "outputs": [
    {
     "name": "stdout",
     "output_type": "stream",
     "text": [
      "Total of unique users: 108124\n",
      "Total of unique films: 8759\n"
     ]
    }
   ],
   "source": [
    "user_ids = list(set(df_watch['user_id'].values.tolist() + df_rates['user_id'].values.tolist()))\n",
    "item_ids = list(set(df_watch['item_id'].values.tolist() + df_rates['item_id'].values.tolist()))\n",
    "\n",
    "USER_COUNT = len(user_ids)\n",
    "ITEM_COUNT = len(item_ids)\n",
    "print 'Total of unique users:', USER_COUNT\n",
    "print 'Total of unique films:', ITEM_COUNT\n",
    "\n",
    "user_dict = { user_id:i for i, user_id in enumerate(user_ids)}\n",
    "item_dict = { item_id:i for i, item_id in enumerate(item_ids)}"
   ]
  },
  {
   "cell_type": "markdown",
   "metadata": {},
   "source": [
    "Матрица пользователь-рейтинг"
   ]
  },
  {
   "cell_type": "code",
   "execution_count": 16,
   "metadata": {
    "collapsed": false
   },
   "outputs": [],
   "source": [
    "urm = np.zeros(shape=(USER_COUNT, ITEM_COUNT), dtype=np.float32)"
   ]
  },
  {
   "cell_type": "markdown",
   "metadata": {},
   "source": [
    "Мы не всегда имеем информацию о рейтинге, но имеем дополнительно информацию о просмотрах. На гистограммах выше было видно, что чаще всего высокая длительность просмотра коррелирует с высоким рейтингом фильма. \n",
    "Будем использовать средние значения рейтинга, которые ставил данный пользователь, если он смотрел данный контент более 30 минут (условная минимальная длительность серии сериала). Если пользователь смотрел данный контент меньше 30 минут, скорее всего, он ему не понравился, поэтому проставим ему низкий рейтинг = 1.\n",
    "Здесь 30 минут - параметр, который можно настраивать. \n",
    "\n",
    "Если у пользователя нет оценок для данного фильма, будем использовать глобальное среднее."
   ]
  },
  {
   "cell_type": "code",
   "execution_count": 17,
   "metadata": {
    "collapsed": false
   },
   "outputs": [
    {
     "name": "stdout",
     "output_type": "stream",
     "text": [
      "Global average:  8.35230566535\n",
      "Users with own rates:  1218\n",
      "Users with fake rates:  106906\n"
     ]
    }
   ],
   "source": [
    "# set average rates for every user\n",
    "# if a user doesn't have any rates then set the global average rate for him\n",
    "\n",
    "global_avg = df_rates['rate'].mean()\n",
    "print 'Global average: ', global_avg\n",
    "avg_rates = df_rates.groupby(['user_id'])[['rate']].mean()\n",
    "print 'Users with own rates: ', avg_rates.shape[0]\n",
    "\n",
    "users_no_rates = [user_id for user_id in user_ids if not user_id in avg_rates.index]\n",
    "global_avg_list = [global_avg for i in range(len(users_no_rates))]\n",
    "\n",
    "avg_rates_for_users_with_no_rates = pd.DataFrame({'user_id': users_no_rates, 'rate': global_avg_list})\n",
    "avg_rates_for_users_with_no_rates.set_index('user_id', inplace=True)\n",
    "print 'Users with fake rates: ', avg_rates_for_users_with_no_rates.shape[0]\n",
    "\n",
    "avg_rates = avg_rates.append(avg_rates_for_users_with_no_rates)"
   ]
  },
  {
   "cell_type": "code",
   "execution_count": 18,
   "metadata": {
    "collapsed": true
   },
   "outputs": [],
   "source": [
    "# Set explicit rates to the matrix\n",
    "for index, row in df_rates.iterrows():\n",
    "    i = user_dict[row['user_id']]\n",
    "    j = item_dict[row['item_id']]\n",
    "    urm[i,j] = row['rate']\n",
    "    \n",
    "# Set implicit rates based on watched content and user's average rate\n",
    "for index, row in df_watch.iterrows():\n",
    "    i = user_dict[row['user_id']]\n",
    "    j = item_dict[row['item_id']]\n",
    "    if urm[i,j] == 0:\n",
    "        urm[i,j] = 1 if row['watch_duration'] < 30*60 else avg_rates.loc[row['user_id']]['rate']"
   ]
  },
  {
   "cell_type": "markdown",
   "metadata": {},
   "source": [
    "Для SVD-разложения пришлось использовать sparsesvd, так как при обычном разложении не хватало памяти. По той же причине функция computeSparseSVD возвращает не полную матрицу предсказанных оценок, а две части разложения."
   ]
  },
  {
   "cell_type": "code",
   "execution_count": 19,
   "metadata": {
    "collapsed": true
   },
   "outputs": [],
   "source": [
    "urm_csr = csc_matrix(urm, dtype=np.float32)"
   ]
  },
  {
   "cell_type": "code",
   "execution_count": 20,
   "metadata": {
    "collapsed": true
   },
   "outputs": [],
   "source": [
    "# compute SVD from user-rate matrix, k is a parameter\n",
    "def computeSVD(urm, k):\n",
    "    U, sigma, Vt = svds(urm, k = 50)\n",
    "    sigma = np.diag(sigma)\n",
    "    prediction_matrix = np.dot(np.dot(U, sigma), Vt)\n",
    "    return prediction_matrix\n",
    "\n",
    "def computeSparseSVD(urm, K):\n",
    "    U, s, Vt = sparsesvd(urm, K)\n",
    "    sigma = np.diag(s)\n",
    "    U = csr_matrix(np.transpose(U), dtype=np.float32)\n",
    "    S = csr_matrix(sigma, dtype=np.float32)\n",
    "    Vt = csr_matrix(Vt, dtype=np.float32)\n",
    "    SVt = S*Vt\n",
    "#     prediction_matrix = np.dot(U.T, np.dot(sigma, Vt))\n",
    "#     return prediction_matrix\n",
    "\n",
    "    return U, SVt"
   ]
  },
  {
   "cell_type": "markdown",
   "metadata": {},
   "source": [
    "Функция получения рекомендаций: возвращает указанное число рекомендованных фильмов с наибольшим рейтингом, кроме тех, которые пользователь уже смотрел или оценивал. \n",
    "Предполагается, что большая часть контента - фильмы (это можно предположить, глядя на гистограмму длительностей просмотра, где есть скопление значений в районе 1,5-2 часовой длительности). Для сериалов, скорее всего, этот подход не будет правильным."
   ]
  },
  {
   "cell_type": "code",
   "execution_count": 21,
   "metadata": {
    "collapsed": true
   },
   "outputs": [],
   "source": [
    "def recommend_for_user(U, SVt, user_id, user_seen_items, num_recommendations=5, verbose=False):\n",
    "    rates = U[user_dict[user_id], :]*SVt\n",
    "    # get predictions\n",
    "    estimated_rates = rates.todense()\n",
    "    recommend_df = pd.DataFrame({'item_id':item_ids})\n",
    "    recommend_df.set_index('item_id', inplace=True)\n",
    "    for index, row in recommend_df.iterrows():\n",
    "        recommend_df.at[index, 'rate'] = estimated_rates[0, item_dict[index]]\n",
    "    \n",
    "    # recommend the highest rated content that the user hasn't seen/rated yet\n",
    "    new_recommend = (recommend_df.loc[~recommend_df.index.isin(user_seen_items['item_id'])]\n",
    "                    .sort_values('rate', ascending = False)\n",
    "                    .iloc[:num_recommendations])\n",
    "       \n",
    "    if (verbose):\n",
    "        print 'User {0} has already seen/rated {1} content items.'.format(user_id, user_seen_items.shape[0])\n",
    "        print 'Recommending the highest {0} predicted ratings for content not seen/rated:'.format(num_recommendations)\n",
    "        print new_recommend\n",
    "\n",
    "    return new_recommend.index.values"
   ]
  },
  {
   "cell_type": "markdown",
   "metadata": {},
   "source": [
    "Получение предсказаний для пользователей из тестовой выборки. Число предсказаний, которые хотим получить на следующие 2 недели берем равным половине от просмотренного пользователем за прошлый месяц."
   ]
  },
  {
   "cell_type": "code",
   "execution_count": 22,
   "metadata": {
    "collapsed": true
   },
   "outputs": [],
   "source": [
    "def get_predictions(U, SVt, test_set):\n",
    "    test_user_ids = test_set.user_id.unique().tolist()\n",
    "    predictions_df = pd.DataFrame(columns=['user_id', 'item_id'], dtype='int32')\n",
    "    for uid in test_user_ids:\n",
    "        # get content user has already seen/rated\n",
    "        user_seen_items = train[(train.user_id == uid) & (train.watch_duration > 0)]\n",
    "        # predict for 2 weeks, so take 0.5 of total seen items in previous month\n",
    "        predictions = recommend_for_user(U, SVt, uid, user_seen_items, int(round(user_seen_items.shape[0]/2)), False)\n",
    "        predictions_df = predictions_df.append(pd.DataFrame({'user_id': uid, 'item_id': predictions}, dtype='int32'))\n",
    "\n",
    "    return predictions_df"
   ]
  },
  {
   "cell_type": "markdown",
   "metadata": {},
   "source": [
    "В качестве метрики точности будем рассчитывать F-меру:"
   ]
  },
  {
   "cell_type": "code",
   "execution_count": 23,
   "metadata": {
    "collapsed": true
   },
   "outputs": [],
   "source": [
    "def prediction_Fscore(predict_items, test_items):\n",
    "    intersect_count = len([i for i in predict_items if i in test_items])\n",
    "    if intersect_count == 0:\n",
    "        return 0;\n",
    "    #print ('intersect_count:', intersect_count)\n",
    "    precision = float(intersect_count)/len(predict_items)\n",
    "    recall = float(intersect_count)/len(test_items)\n",
    "    if (precision + recall) > 0:\n",
    "        Fscore = 2*precision*recall/(precision + recall)\n",
    "    else:\n",
    "        Fscore = 0\n",
    "    return Fscore"
   ]
  },
  {
   "cell_type": "code",
   "execution_count": 24,
   "metadata": {
    "collapsed": true
   },
   "outputs": [],
   "source": [
    "def get_total_Fscore(test_set, validation_set):\n",
    "    test_user_ids = test_set.user_id.unique().tolist()\n",
    "    Fscores = []\n",
    "    for uid in test_user_ids:\n",
    "        items_seen_count = train[(train.user_id == uid) & (train.watch_duration > 0)].shape[0]\n",
    "        # predict for 2 weeks, so take 0.5 of total seen items in previous month\n",
    "        predictions = recommend_for_user(U, SVt, uid, train[(train.user_id == uid) & (train.watch_duration > 0)], int(round(items_seen_count/2)), False)\n",
    "        answer = validation_set[validation_set.user_id == uid]['item_id'].values\n",
    "        Fscore = prediction_Fscore(predictions, answer)\n",
    "        Fscores.append(Fscore)\n",
    "\n",
    "    Fscore_mean = np.mean(Fscores)\n",
    "    print 'F score: ', Fscore_mean\n",
    "    return Fscore_mean"
   ]
  },
  {
   "cell_type": "code",
   "execution_count": 25,
   "metadata": {
    "collapsed": true
   },
   "outputs": [],
   "source": [
    "def write_predictions(predictions_df, filename):\n",
    "    predictions_df[['user_id', 'item_id']].astype(int).to_csv(filename, index=False)"
   ]
  },
  {
   "cell_type": "markdown",
   "metadata": {},
   "source": [
    "Пример предсказания для 1 id пользователя:"
   ]
  },
  {
   "cell_type": "code",
   "execution_count": 26,
   "metadata": {
    "collapsed": false
   },
   "outputs": [
    {
     "name": "stdout",
     "output_type": "stream",
     "text": [
      "F score:  0.037037037037\n"
     ]
    }
   ],
   "source": [
    "user_id_test = -231141499\n",
    "\n",
    "U, SVt = computeSparseSVD(urm_csr, 50)\n",
    "predictions_df = get_predictions(U, SVt, pd.DataFrame({'user_id': [user_id_test]}, dtype='int32'))\n",
    "answer = test[test.user_id == user_id_test]['item_id'].values\n",
    "Fscore = prediction_Fscore(predictions_df.item_id, answer)\n",
    "print 'F score: ', Fscore\n",
    "write_predictions(predictions_df, 'data/prediction1.csv')"
   ]
  },
  {
   "cell_type": "markdown",
   "metadata": {},
   "source": [
    "Подбор параметра SVD-разложения k - количество признаков в матрицах SVD-разложения, которые мы используем."
   ]
  },
  {
   "cell_type": "code",
   "execution_count": 27,
   "metadata": {
    "collapsed": false
   },
   "outputs": [
    {
     "name": "stdout",
     "output_type": "stream",
     "text": [
      "F score:  0.0275499146363\n",
      "F score:  0.0287547016506\n",
      "F score:  0.0285397419541\n",
      "F score:  0.0259074681333\n"
     ]
    }
   ],
   "source": [
    "train_set, test_set = train_test_split(test, test_size=0.33, random_state=42)\n",
    "SVD_params = [20, 50, 100, 200]\n",
    "fs = []\n",
    "for k in SVD_params:\n",
    "    U, SVt = computeSparseSVD(urm_csr, k)\n",
    "    Fscore = get_total_Fscore(train_set, test)\n",
    "    fs.append(Fscore)"
   ]
  },
  {
   "cell_type": "code",
   "execution_count": 28,
   "metadata": {
    "collapsed": false
   },
   "outputs": [
    {
     "data": {
      "text/plain": [
       "<matplotlib.text.Text at 0x7f8368500650>"
      ]
     },
     "execution_count": 28,
     "metadata": {},
     "output_type": "execute_result"
    },
    {
     "data": {
      "image/png": "[encoded data removed]",
      "text/plain": [
       "<matplotlib.figure.Figure at 0x7f83663f5e10>"
      ]
     },
     "metadata": {},
     "output_type": "display_data"
    }
   ],
   "source": [
    "plt.figure(figsize=(8,4))\n",
    "plt.plot(SVD_params, fs, 'g', label=\"F-score\")\n",
    "plt.legend()\n",
    "plt.title(\"Metrics per k value\")\n",
    "plt.ylabel('metrics', fontsize=12)\n",
    "plt.xlabel('k', fontsize=12)"
   ]
  },
  {
   "cell_type": "code",
   "execution_count": 33,
   "metadata": {
    "collapsed": false
   },
   "outputs": [
    {
     "name": "stdout",
     "output_type": "stream",
     "text": [
      "Max F-score: 0.0287547016506\n"
     ]
    }
   ],
   "source": [
    "print 'Max F-score:', max(fs)"
   ]
  },
  {
   "cell_type": "markdown",
   "metadata": {},
   "source": [
    "Оценка F-меры на отложенной выборке из теста:"
   ]
  },
  {
   "cell_type": "code",
   "execution_count": 41,
   "metadata": {
    "collapsed": false
   },
   "outputs": [
    {
     "name": "stdout",
     "output_type": "stream",
     "text": [
      "('F score: ', 0.028397674549549803)\n"
     ]
    }
   ],
   "source": [
    "test_Fscore = get_total_Fscore(test_set, test)"
   ]
  },
  {
   "cell_type": "markdown",
   "metadata": {},
   "source": [
    "Наибольшее значение F-мера принимает при k=50. \n",
    "F-мера все равно получилась очень маленькой. Можно было бы попробовать изменить алгоритм заполнения недостающих оценок контента, варьировать порог длительности просмотра, при которой мы добавляем в качестве рейтинга средний рейтинг пользователя. \n",
    "Также можно было бы попробовать обучить простую регрессию на признаках (длительность просмотра, число контента), которая предсказывала бы рейтинг для пользователя и контента."
   ]
  },
  {
   "cell_type": "markdown",
   "metadata": {},
   "source": [
    "Также был вариант построения рекомендательной системы на базе коллаборативной фильтрации по пользователям (посколько в выборке есть новый фильмы). (На реализацию, к сожалению, не хватило времени). План построения модели был следующий:\n",
    "1. Для каждого пользователя:\n",
    "\n",
    "    1.1. Построить вектор оценок всех фильмов.\n",
    "    \n",
    "    1.2. Для просмотренных, но не оцененных фильмов, заполнить средним рейтингом по пользователю.\n",
    "    \n",
    "2. Составить матрицу похожести пользователи-пользователи. В качестве меры схожести использовать косинусную меру для векторов из п.1.\n",
    "\n",
    "Для построения рекомендаций:\n",
    "1. Для каждого фильма, который не смотрел пользователь:\n",
    "\n",
    "    1.1. Выбрать пользователей, которые смотрели/оценивали этот фильм.\n",
    "    \n",
    "    1.2. Найти k ближайший по косинусной мере пользователей.\n",
    "    \n",
    "    1.3. Посчитать взвешенную оценку по пользователям $$\\sum_{i=1}^{k}Cos(u_i, u)*rate(u_i)$$\n",
    "\n",
    "2. Выбрать m фильмов с максимальным рейтингом."
   ]
  },
  {
   "cell_type": "code",
   "execution_count": null,
   "metadata": {
    "collapsed": true
   },
   "outputs": [],
   "source": []
  }
 ],
 "metadata": {
  "kernelspec": {
   "display_name": "Python 2",
   "language": "python",
   "name": "python2"
  },
  "language_info": {
   "codemirror_mode": {
    "name": "ipython",
    "version": 2
   },
   "file_extension": ".py",
   "mimetype": "text/x-python",
   "name": "python",
   "nbconvert_exporter": "python",
   "pygments_lexer": "ipython2",
   "version": "2.7.13"
  }
 },
 "nbformat": 4,
 "nbformat_minor": 2
}
